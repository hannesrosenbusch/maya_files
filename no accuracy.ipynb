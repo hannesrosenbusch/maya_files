{
 "cells": [
  {
   "cell_type": "code",
   "execution_count": 1,
   "metadata": {
    "_cell_guid": "b1076dfc-b9ad-4769-8c92-a6c4dae69d19",
    "_uuid": "8f2839f25d086af736a60e9eeb907d3b93b6e0e5"
   },
   "outputs": [
    {
     "name": "stderr",
     "output_type": "stream",
     "text": [
      "/opt/conda/lib/python3.6/site-packages/tensorflow/python/framework/dtypes.py:516: FutureWarning: Passing (type, 1) or '1type' as a synonym of type is deprecated; in a future version of numpy, it will be understood as (type, (1,)) / '(1,)type'.\n",
      "  _np_qint8 = np.dtype([(\"qint8\", np.int8, 1)])\n",
      "/opt/conda/lib/python3.6/site-packages/tensorflow/python/framework/dtypes.py:517: FutureWarning: Passing (type, 1) or '1type' as a synonym of type is deprecated; in a future version of numpy, it will be understood as (type, (1,)) / '(1,)type'.\n",
      "  _np_quint8 = np.dtype([(\"quint8\", np.uint8, 1)])\n",
      "/opt/conda/lib/python3.6/site-packages/tensorflow/python/framework/dtypes.py:518: FutureWarning: Passing (type, 1) or '1type' as a synonym of type is deprecated; in a future version of numpy, it will be understood as (type, (1,)) / '(1,)type'.\n",
      "  _np_qint16 = np.dtype([(\"qint16\", np.int16, 1)])\n",
      "/opt/conda/lib/python3.6/site-packages/tensorflow/python/framework/dtypes.py:519: FutureWarning: Passing (type, 1) or '1type' as a synonym of type is deprecated; in a future version of numpy, it will be understood as (type, (1,)) / '(1,)type'.\n",
      "  _np_quint16 = np.dtype([(\"quint16\", np.uint16, 1)])\n",
      "/opt/conda/lib/python3.6/site-packages/tensorflow/python/framework/dtypes.py:520: FutureWarning: Passing (type, 1) or '1type' as a synonym of type is deprecated; in a future version of numpy, it will be understood as (type, (1,)) / '(1,)type'.\n",
      "  _np_qint32 = np.dtype([(\"qint32\", np.int32, 1)])\n",
      "/opt/conda/lib/python3.6/site-packages/tensorflow/python/framework/dtypes.py:525: FutureWarning: Passing (type, 1) or '1type' as a synonym of type is deprecated; in a future version of numpy, it will be understood as (type, (1,)) / '(1,)type'.\n",
      "  np_resource = np.dtype([(\"resource\", np.ubyte, 1)])\n",
      "/opt/conda/lib/python3.6/site-packages/tensorboard/compat/tensorflow_stub/dtypes.py:541: FutureWarning: Passing (type, 1) or '1type' as a synonym of type is deprecated; in a future version of numpy, it will be understood as (type, (1,)) / '(1,)type'.\n",
      "  _np_qint8 = np.dtype([(\"qint8\", np.int8, 1)])\n",
      "/opt/conda/lib/python3.6/site-packages/tensorboard/compat/tensorflow_stub/dtypes.py:542: FutureWarning: Passing (type, 1) or '1type' as a synonym of type is deprecated; in a future version of numpy, it will be understood as (type, (1,)) / '(1,)type'.\n",
      "  _np_quint8 = np.dtype([(\"quint8\", np.uint8, 1)])\n",
      "/opt/conda/lib/python3.6/site-packages/tensorboard/compat/tensorflow_stub/dtypes.py:543: FutureWarning: Passing (type, 1) or '1type' as a synonym of type is deprecated; in a future version of numpy, it will be understood as (type, (1,)) / '(1,)type'.\n",
      "  _np_qint16 = np.dtype([(\"qint16\", np.int16, 1)])\n",
      "/opt/conda/lib/python3.6/site-packages/tensorboard/compat/tensorflow_stub/dtypes.py:544: FutureWarning: Passing (type, 1) or '1type' as a synonym of type is deprecated; in a future version of numpy, it will be understood as (type, (1,)) / '(1,)type'.\n",
      "  _np_quint16 = np.dtype([(\"quint16\", np.uint16, 1)])\n",
      "/opt/conda/lib/python3.6/site-packages/tensorboard/compat/tensorflow_stub/dtypes.py:545: FutureWarning: Passing (type, 1) or '1type' as a synonym of type is deprecated; in a future version of numpy, it will be understood as (type, (1,)) / '(1,)type'.\n",
      "  _np_qint32 = np.dtype([(\"qint32\", np.int32, 1)])\n",
      "/opt/conda/lib/python3.6/site-packages/tensorboard/compat/tensorflow_stub/dtypes.py:550: FutureWarning: Passing (type, 1) or '1type' as a synonym of type is deprecated; in a future version of numpy, it will be understood as (type, (1,)) / '(1,)type'.\n",
      "  np_resource = np.dtype([(\"resource\", np.ubyte, 1)])\n",
      "Using TensorFlow backend.\n"
     ]
    }
   ],
   "source": [
    "# This Python 3 environment comes with many helpful analytics libraries installed\n",
    "# It is defined by the kaggle/python docker image: https://github.com/kaggle/docker-python\n",
    "# For example, here's several helpful packages to load in \n",
    "\n",
    "import pandas as pd\n",
    "from numpy.random import seed\n",
    "seed(42)\n",
    "import random\n",
    "random.seed(42)\n",
    "from tensorflow import set_random_seed\n",
    "set_random_seed(42)\n",
    "\n",
    "import os\n",
    "import sys\n",
    "import numpy as np\n",
    "from keras.models import Sequential\n",
    "from keras.layers import Dropout\n",
    "from keras.applications.resnet50 import ResNet50\n",
    "from keras.layers import Dense\n",
    "import time\n",
    "import cv2\n",
    "from PIL import Image\n",
    "from matplotlib import pyplot as plt\n",
    "from keras.optimizers import Adam\n",
    "from sklearn.model_selection import KFold\n",
    "from keras.preprocessing.image import ImageDataGenerator\n",
    "from sklearn.metrics import mean_squared_error\n",
    "from math import sqrt\n",
    "\n",
    "\n",
    "#define function to turn grayscale into rgb\n",
    "def to_rgb(im):\n",
    "    '''\n",
    "    # I think this will be slow\n",
    "    w, h = im.shape\n",
    "    ret = np.empty((w, h, 3), dtype=np.uint8)\n",
    "    ret[:, :, 0] = im\n",
    "    ret[:, :, 1] = im\n",
    "    ret[:, :, 2] = im\n",
    "    return ret\n",
    "    '''\n",
    "    # maya - this should run faster\n",
    "    ret = cv2.cvtColor(im,cv2.COLOR_GRAY2RGB)\n",
    "    \n"
   ]
  },
  {
   "cell_type": "code",
   "execution_count": 2,
   "metadata": {
    "_cell_guid": "79c7e3d0-c299-4dcb-8224-4455121ee9b0",
    "_uuid": "d629ff2d2480ee46fbb7e2d37f6b5fab8052498a"
   },
   "outputs": [
    {
     "name": "stdout",
     "output_type": "stream",
     "text": [
      "0     0_the gap666.jpg\n",
      "1    1_topshop1716.jpg\n",
      "2    10_topshop894.jpg\n",
      "Name: player.photo, dtype: object\n"
     ]
    }
   ],
   "source": [
    "target = ['trustworthiness', \"sexual_interest\", \"intelligence\", \"confidence\",\"happiness\"]\n",
    "\n",
    "#set constants\n",
    "limit = 5000 #with how many pictures do I want to experiment\n",
    "# maya - I think you can choose smaller image size to start with. smaller the input, faster the process\n",
    "# I also think Resnet accepts various size inputs, you can try giving it actual size images without deformation \n",
    "#Hannes - I am working towards variable input sizes (which should work)\n",
    "#In order to do that, I use flow_from_data_frame not just for training but also for the testing (before we just stored the data in a numpy array as all had same dimensions)\n",
    "#However, when flowing the images from the directory I get very weird results: no accuracy at all (even when I validate on the training data)\n",
    "#so something is wrong\n",
    "\n",
    "height = 224\n",
    "width = 224\n",
    "cv_folds = 4\n",
    "batchsize = 32\n",
    "preprocess = False\n",
    "nr_epochs = 5\n",
    "rescaling = True #True False\n",
    "lrr = 0.001 #0.01 0.005 0.001 0.0005 0.0001\n",
    "unfreeze = 176 #-8 -5 -2 176\n",
    "\n",
    "#read labels\n",
    "labels = pd.read_csv('../input/labels/labels.csv', header = 'infer')\n",
    "print(labels['player.photo'][0:3])\n",
    "Y = np.array(labels[target][0:limit])\n",
    "labels['file'] = \"../input/resized-images/resized_images/resized_images/\" + labels['player.photo']"
   ]
  },
  {
   "cell_type": "code",
   "execution_count": 3,
   "metadata": {},
   "outputs": [],
   "source": [
    "#this cell is not needed when we just flow the pictures from the directory\n",
    "\n",
    "# if preprocess:\n",
    "#     # read images\n",
    "#     X = np.empty(shape=(limit, height, width, 3), dtype='uint8')\n",
    "#     images = [np.array(Image.open(\"images/\" + fname)) for fname in labels['player.photo'][0:limit]]\n",
    "\n",
    "#     #bring into same format\n",
    "#     for i, image in enumerate(images):\n",
    "#         if len(image.shape) == 2:\n",
    "#             special_case = labels['player.photo'][i]\n",
    "#             resized_img = cv2.imread(\"images/\" + special_case, cv2.IMREAD_GRAYSCALE)\n",
    "#             resized_img = Image.fromarray(resized_img)\n",
    "#             resized_img = resized_img.resize((height,width))\n",
    "#             resized_img = np.array(resized_img)\n",
    "#             resized_img = to_rgb(resized_img)\n",
    "#             # plt.imshow(Image.fromarray(resized_img, mode= 'RGB'))\n",
    "#             # plt.show()\n",
    "\n",
    "\n",
    "#         elif image.shape[2] == 4 or image.shape[2] == 3:\n",
    "#             resized_img = Image.fromarray(image[...,:3])\n",
    "#             resized_img = resized_img.resize((height,width))\n",
    "#             resized_img = np.array(resized_img)\n",
    "\n",
    "#         elif image.shape[2] == 2:\n",
    "#             image = np.array(image[...,0], dtype= 'uint8')\n",
    "#             resized_img = Image.fromarray(image)\n",
    "#             resized_img = resized_img.resize((height,width))\n",
    "#             resized_img = np.array(resized_img)\n",
    "#             resized_img = to_rgb(resized_img)\n",
    "\n",
    "#         else:\n",
    "#             print(\"There are other formats!\")\n",
    "#             print(image.shape)\n",
    "#             sys.exit()\n",
    "\n",
    "#         X[i] = resized_img\n",
    "\n",
    "#     np.save(r\"../input/preprocessed images/preprocessed_data.npy\", X)\n",
    "\n",
    "# else:\n",
    "#     X = np.load(r\"../input/preprocessed-images/preprocessed_data.npy\")\n",
    "#     X = X[0:limit]\n",
    "\n"
   ]
  },
  {
   "cell_type": "code",
   "execution_count": 4,
   "metadata": {},
   "outputs": [
    {
     "name": "stdout",
     "output_type": "stream",
     "text": [
      "Downloading data from https://github.com/fchollet/deep-learning-models/releases/download/v0.2/resnet50_weights_tf_dim_ordering_tf_kernels_notop.h5\n",
      "94658560/94653016 [==============================] - 3s 0us/step\n",
      "_________________________________________________________________\n",
      "Layer (type)                 Output Shape              Param #   \n",
      "=================================================================\n",
      "resnet50 (Model)             (None, 2048)              23587712  \n",
      "_________________________________________________________________\n",
      "dense_1 (Dense)              (None, 5)                 10245     \n",
      "=================================================================\n",
      "Total params: 23,597,957\n",
      "Trainable params: 10,245\n",
      "Non-trainable params: 23,587,712\n",
      "_________________________________________________________________\n"
     ]
    }
   ],
   "source": [
    "#load resnet50\n",
    "resnet = ResNet50(include_top=False, pooling='avg', weights = 'imagenet')\n",
    "for layer in resnet.layers: #freeze all resnet layers (for now; to avoid overfitting)\n",
    "    layer.trainable = False\n",
    "model = Sequential()\n",
    "model.add(resnet)\n",
    "\n",
    "#add linear last layer\n",
    "model.add(Dense(5, activation='linear'))\n",
    "\n",
    "#compile model\n",
    "# maya - here I do propose to do a grid-search to find the best fine-tuning parameters #hannes - good idea, but we have to do it offline/not on kaggle\n",
    "model.compile(loss='mean_squared_error',\n",
    "              optimizer=Adam(lr=lrr, beta_1=0.9, beta_2=0.999, epsilon=None, decay=0.0, amsgrad=False),\n",
    "              metrics=['mse'])\n",
    "model.summary()"
   ]
  },
  {
   "cell_type": "code",
   "execution_count": 5,
   "metadata": {},
   "outputs": [],
   "source": [
    "#data augmentation\n",
    "if rescaling:\n",
    "    datagen = ImageDataGenerator(rescale = 1./255.,\n",
    "            rotation_range=20,\n",
    "            width_shift_range=0.1,\n",
    "            height_shift_range=0.1,\n",
    "            zoom_range=0.25, horizontal_flip=True, vertical_flip=False)\n",
    "if not rescaling:\n",
    "        datagen = ImageDataGenerator(\n",
    "            rotation_range=20,\n",
    "            width_shift_range=0.1,\n",
    "            height_shift_range=0.1,\n",
    "            zoom_range=0.25, horizontal_flip=True, vertical_flip=False)"
   ]
  },
  {
   "cell_type": "code",
   "execution_count": 6,
   "metadata": {},
   "outputs": [],
   "source": [
    "#this cell is just for looking at the pictures and requires that the rescaling in the data generators is removed\n",
    "\n",
    "# for train, test in kfold.split(labels):\n",
    "    \n",
    "#     valid_generator = datagen.flow_from_dataframe(\n",
    "#                     dataframe=labels.iloc[train],\n",
    "#                     directory=\"../input/resized-images/resized_images/resized_images/\",\n",
    "#                     x_col=\"player.photo\", seed = 42,\n",
    "#                     y_col= target, class_mode= \"other\", batch_size=batchsize, has_ext=True)\n",
    "    \n",
    "#     test_generator = test_datagen.flow_from_dataframe(dataframe=labels.iloc[train], directory=\"../input/resized-images/resized_images/resized_images/\",\n",
    "#                     x_col=\"player.photo\", seed = 42, y_col= None, class_mode= None, batch_size=batchsize, has_ext=True)\n",
    "    \n",
    "#     for x in test_generator:\n",
    "#         testpic = np.array(x[1], dtype = 'uint8')\n",
    "#         print(testpic)\n",
    "#         plt.imshow(Image.fromarray(testpic, mode= 'RGB'))\n",
    "#         plt.show()\n",
    "#         break"
   ]
  },
  {
   "cell_type": "code",
   "execution_count": 7,
   "metadata": {},
   "outputs": [
    {
     "name": "stdout",
     "output_type": "stream",
     "text": [
      "Found 3750 validated image filenames.\n"
     ]
    },
    {
     "ename": "NameError",
     "evalue": "name 'test_datagen' is not defined",
     "output_type": "error",
     "traceback": [
      "\u001b[0;31m---------------------------------------------------------------------------\u001b[0m",
      "\u001b[0;31mNameError\u001b[0m                                 Traceback (most recent call last)",
      "\u001b[0;32m<ipython-input-7-fa02d6afe3fc>\u001b[0m in \u001b[0;36m<module>\u001b[0;34m\u001b[0m\n\u001b[1;32m     24\u001b[0m     \u001b[0;31m#it turns out that the accuracy is also basically zero on the training data\u001b[0m\u001b[0;34m\u001b[0m\u001b[0;34m\u001b[0m\u001b[0m\n\u001b[1;32m     25\u001b[0m     \u001b[0;31m#what is wrong?\u001b[0m\u001b[0;34m\u001b[0m\u001b[0;34m\u001b[0m\u001b[0m\n\u001b[0;32m---> 26\u001b[0;31m     test_generator = test_datagen.flow_from_dataframe(dataframe=labels.iloc[train], directory=\"../input/resized-images/resized_images/resized_images/\",\n\u001b[0m\u001b[1;32m     27\u001b[0m                     x_col=\"player.photo\", seed = 42, y_col= None, class_mode= None, batch_size=batchsize, has_ext=True)\n\u001b[1;32m     28\u001b[0m \u001b[0;34m\u001b[0m\u001b[0m\n",
      "\u001b[0;31mNameError\u001b[0m: name 'test_datagen' is not defined"
     ]
    }
   ],
   "source": [
    "#set up cross-validation\n",
    "kfold = KFold(n_splits=cv_folds, shuffle=True, random_state=42)\n",
    "\n",
    "trustworthiness_val_rmse = []\n",
    "confidence_val_rmse = []\n",
    "sexual_interest_val_rmse = []\n",
    "intelligence_val_rmse = []\n",
    "happiness_val_rmse = []\n",
    "trustworthiness_cors = []\n",
    "confidence_cors = []\n",
    "sexual_interest_cors = []\n",
    "intelligence_cors = []\n",
    "happiness_cors = []\n",
    "\n",
    "for train, test in kfold.split(labels):\n",
    "    \n",
    "    valid_generator = datagen.flow_from_dataframe(\n",
    "                    dataframe=labels.iloc[train],\n",
    "                    directory=\"../input/resized-images/resized_images/resized_images/\",\n",
    "                    x_col=\"player.photo\", seed = 42,\n",
    "                    y_col= target, class_mode= \"other\", batch_size=batchsize, has_ext=True)\n",
    "    \n",
    "    #i currently use the training data for everything (training and testing) to find out why the accuracy is basically zero\n",
    "    #it turns out that the accuracy is also basically zero on the training data\n",
    "    #what is wrong?\n",
    "    test_generator = test_datagen.flow_from_dataframe(dataframe=labels.iloc[train], directory=\"../input/resized-images/resized_images/resized_images/\",\n",
    "                    x_col=\"player.photo\", seed = 42, y_col= None, class_mode= None, batch_size=batchsize, has_ext=True)\n",
    "        \n",
    "    \n",
    "    history = model.fit_generator(valid_generator, steps_per_epoch=labels.iloc[train].shape[0] / batchsize, epochs=nr_epochs,\n",
    "                                              validation_steps= labels.iloc[train].shape[0] / batchsize, validation_data=valid_generator) \n",
    "\n",
    "    ytrue = labels.iloc[train][target]\n",
    "    test_generator.reset()\n",
    "    ypreds = model.predict_generator(test_generator, steps=labels.iloc[train].shape[0] / batchsize, verbose=1)\n",
    "    \n",
    "    trustworthiness_cor = np.corrcoef(ypreds[:,0], ytrue.iloc[:,0])\n",
    "    trustworthiness_val_mse = mean_squared_error(ypreds[:,0], ytrue.iloc[:,0])\n",
    "    trustworthiness_rmse = sqrt(trustworthiness_val_mse)\n",
    "    trustworthiness_val_rmse.append(trustworthiness_rmse)\n",
    "\n",
    "    sexual_interest_cor = np.corrcoef(ypreds[:,1], ytrue.iloc[:,1])\n",
    "    sexual_interest_val_mse = mean_squared_error(ypreds[:,1], ytrue.iloc[:,1])\n",
    "    sexual_interest_rmse = sqrt(sexual_interest_val_mse)\n",
    "    sexual_interest_val_rmse.append(sexual_interest_rmse)\n",
    "\n",
    "    intelligence_cor = np.corrcoef(ypreds[:,2], ytrue.iloc[:,2])\n",
    "    intelligence_val_mse = mean_squared_error(ypreds[:,2], ytrue.iloc[:,2])\n",
    "    intelligence_rmse = sqrt(intelligence_val_mse)\n",
    "    intelligence_val_rmse.append(intelligence_rmse)\n",
    "\n",
    "    confidence_cor = np.corrcoef(ypreds[:,3], ytrue.iloc[:,3])\n",
    "    confidence_val_mse = mean_squared_error(ypreds[:,3], ytrue.iloc[:,3])\n",
    "    confidence_rmse = sqrt(confidence_val_mse)\n",
    "    confidence_val_rmse.append(confidence_rmse)\n",
    "\n",
    "    happiness_cor = np.corrcoef(ypreds[:,4], ytrue.iloc[:,4])\n",
    "    happiness_val_mse = mean_squared_error(ypreds[:,4], ytrue.iloc[:,4])\n",
    "    happiness_rmse = sqrt(happiness_val_mse)\n",
    "    happiness_val_rmse.append(happiness_rmse)\n",
    "    \n",
    "    confidence_cors.append(confidence_cor[0,1])\n",
    "    sexual_interest_cors.append(sexual_interest_cor[0,1])\n",
    "    happiness_cors.append(happiness_cor[0,1])\n",
    "    intelligence_cors.append(intelligence_cor[0,1])\n",
    "    trustworthiness_cors.append(trustworthiness_cor[0,1])\n",
    "\n",
    "\n",
    "    \n",
    "    \n"
   ]
  },
  {
   "cell_type": "code",
   "execution_count": 8,
   "metadata": {},
   "outputs": [
    {
     "name": "stdout",
     "output_type": "stream",
     "text": [
      "[]\n"
     ]
    }
   ],
   "source": [
    "print(confidence_cors)\n"
   ]
  },
  {
   "cell_type": "code",
   "execution_count": 9,
   "metadata": {},
   "outputs": [
    {
     "name": "stdout",
     "output_type": "stream",
     "text": [
      "\n",
      "\n"
     ]
    },
    {
     "ename": "NameError",
     "evalue": "name 'history' is not defined",
     "output_type": "error",
     "traceback": [
      "\u001b[0;31m---------------------------------------------------------------------------\u001b[0m",
      "\u001b[0;31mNameError\u001b[0m                                 Traceback (most recent call last)",
      "\u001b[0;32m<ipython-input-9-48184f6f4caf>\u001b[0m in \u001b[0;36m<module>\u001b[0;34m\u001b[0m\n\u001b[1;32m      1\u001b[0m \u001b[0;31m# history = model\u001b[0m\u001b[0;34m\u001b[0m\u001b[0;34m\u001b[0m\u001b[0m\n\u001b[1;32m      2\u001b[0m \u001b[0mprint\u001b[0m\u001b[0;34m(\u001b[0m\u001b[0;34m\"\\n\"\u001b[0m\u001b[0;34m)\u001b[0m\u001b[0;34m\u001b[0m\u001b[0m\n\u001b[0;32m----> 3\u001b[0;31m \u001b[0mprint\u001b[0m\u001b[0;34m(\u001b[0m\u001b[0mhistory\u001b[0m\u001b[0;34m.\u001b[0m\u001b[0mhistory\u001b[0m\u001b[0;34m.\u001b[0m\u001b[0mkeys\u001b[0m\u001b[0;34m(\u001b[0m\u001b[0;34m)\u001b[0m\u001b[0;34m)\u001b[0m\u001b[0;34m\u001b[0m\u001b[0m\n\u001b[0m\u001b[1;32m      4\u001b[0m \u001b[0;34m\u001b[0m\u001b[0m\n\u001b[1;32m      5\u001b[0m \u001b[0;31m# summarize history for accuracy\u001b[0m\u001b[0;34m\u001b[0m\u001b[0;34m\u001b[0m\u001b[0m\n",
      "\u001b[0;31mNameError\u001b[0m: name 'history' is not defined"
     ]
    }
   ],
   "source": [
    "# history = model\n",
    "print(\"\\n\")\n",
    "print(history.history.keys())\n",
    "\n",
    "# summarize history for accuracy\n",
    "plt.plot(history.history['loss'])\n",
    "plt.plot(history.history['val_loss'])\n",
    "plt.title('model loss')\n",
    "plt.ylabel('loss')\n",
    "plt.xlabel('epoch')\n",
    "plt.legend(['train', 'test'], loc='upper left')\n",
    "plt.show()\n",
    "plt.savefig('train_curve.pdf')"
   ]
  },
  {
   "cell_type": "code",
   "execution_count": 10,
   "metadata": {},
   "outputs": [
    {
     "name": "stderr",
     "output_type": "stream",
     "text": [
      "/opt/conda/lib/python3.6/site-packages/numpy/core/fromnumeric.py:3257: RuntimeWarning: Mean of empty slice.\n",
      "  out=out, **kwargs)\n",
      "/opt/conda/lib/python3.6/site-packages/numpy/core/_methods.py:161: RuntimeWarning: invalid value encountered in double_scalars\n",
      "  ret = ret.dtype.type(ret / rcount)\n"
     ]
    }
   ],
   "source": [
    "my_submission = pd.DataFrame({'sexual': np.median(sexual_interest_cors),'confident': np.median(confidence_cors),'happy': np.median(happiness_cors), 'intel': np.median(intelligence_cors), 'trust': np.median(trustworthiness_cors)}, index=[0])\n",
    "my_submission.to_csv(str(lrr) + str(unfreeze) + '_submission.csv', index=False)"
   ]
  }
 ],
 "metadata": {
  "kernelspec": {
   "display_name": "Python 3",
   "language": "python",
   "name": "python3"
  },
  "language_info": {
   "codemirror_mode": {
    "name": "ipython",
    "version": 3
   },
   "file_extension": ".py",
   "mimetype": "text/x-python",
   "name": "python",
   "nbconvert_exporter": "python",
   "pygments_lexer": "ipython3",
   "version": "3.6.6"
  }
 },
 "nbformat": 4,
 "nbformat_minor": 1
}
