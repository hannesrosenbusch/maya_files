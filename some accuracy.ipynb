{
 "cells": [
  {
   "cell_type": "code",
   "execution_count": 1,
   "metadata": {
    "_cell_guid": "b1076dfc-b9ad-4769-8c92-a6c4dae69d19",
    "_uuid": "8f2839f25d086af736a60e9eeb907d3b93b6e0e5"
   },
   "outputs": [
    {
     "name": "stderr",
     "output_type": "stream",
     "text": [
      "/opt/conda/lib/python3.6/site-packages/tensorflow/python/framework/dtypes.py:516: FutureWarning: Passing (type, 1) or '1type' as a synonym of type is deprecated; in a future version of numpy, it will be understood as (type, (1,)) / '(1,)type'.\n",
      "  _np_qint8 = np.dtype([(\"qint8\", np.int8, 1)])\n",
      "/opt/conda/lib/python3.6/site-packages/tensorflow/python/framework/dtypes.py:517: FutureWarning: Passing (type, 1) or '1type' as a synonym of type is deprecated; in a future version of numpy, it will be understood as (type, (1,)) / '(1,)type'.\n",
      "  _np_quint8 = np.dtype([(\"quint8\", np.uint8, 1)])\n",
      "/opt/conda/lib/python3.6/site-packages/tensorflow/python/framework/dtypes.py:518: FutureWarning: Passing (type, 1) or '1type' as a synonym of type is deprecated; in a future version of numpy, it will be understood as (type, (1,)) / '(1,)type'.\n",
      "  _np_qint16 = np.dtype([(\"qint16\", np.int16, 1)])\n",
      "/opt/conda/lib/python3.6/site-packages/tensorflow/python/framework/dtypes.py:519: FutureWarning: Passing (type, 1) or '1type' as a synonym of type is deprecated; in a future version of numpy, it will be understood as (type, (1,)) / '(1,)type'.\n",
      "  _np_quint16 = np.dtype([(\"quint16\", np.uint16, 1)])\n",
      "/opt/conda/lib/python3.6/site-packages/tensorflow/python/framework/dtypes.py:520: FutureWarning: Passing (type, 1) or '1type' as a synonym of type is deprecated; in a future version of numpy, it will be understood as (type, (1,)) / '(1,)type'.\n",
      "  _np_qint32 = np.dtype([(\"qint32\", np.int32, 1)])\n",
      "/opt/conda/lib/python3.6/site-packages/tensorflow/python/framework/dtypes.py:525: FutureWarning: Passing (type, 1) or '1type' as a synonym of type is deprecated; in a future version of numpy, it will be understood as (type, (1,)) / '(1,)type'.\n",
      "  np_resource = np.dtype([(\"resource\", np.ubyte, 1)])\n",
      "/opt/conda/lib/python3.6/site-packages/tensorboard/compat/tensorflow_stub/dtypes.py:541: FutureWarning: Passing (type, 1) or '1type' as a synonym of type is deprecated; in a future version of numpy, it will be understood as (type, (1,)) / '(1,)type'.\n",
      "  _np_qint8 = np.dtype([(\"qint8\", np.int8, 1)])\n",
      "/opt/conda/lib/python3.6/site-packages/tensorboard/compat/tensorflow_stub/dtypes.py:542: FutureWarning: Passing (type, 1) or '1type' as a synonym of type is deprecated; in a future version of numpy, it will be understood as (type, (1,)) / '(1,)type'.\n",
      "  _np_quint8 = np.dtype([(\"quint8\", np.uint8, 1)])\n",
      "/opt/conda/lib/python3.6/site-packages/tensorboard/compat/tensorflow_stub/dtypes.py:543: FutureWarning: Passing (type, 1) or '1type' as a synonym of type is deprecated; in a future version of numpy, it will be understood as (type, (1,)) / '(1,)type'.\n",
      "  _np_qint16 = np.dtype([(\"qint16\", np.int16, 1)])\n",
      "/opt/conda/lib/python3.6/site-packages/tensorboard/compat/tensorflow_stub/dtypes.py:544: FutureWarning: Passing (type, 1) or '1type' as a synonym of type is deprecated; in a future version of numpy, it will be understood as (type, (1,)) / '(1,)type'.\n",
      "  _np_quint16 = np.dtype([(\"quint16\", np.uint16, 1)])\n",
      "/opt/conda/lib/python3.6/site-packages/tensorboard/compat/tensorflow_stub/dtypes.py:545: FutureWarning: Passing (type, 1) or '1type' as a synonym of type is deprecated; in a future version of numpy, it will be understood as (type, (1,)) / '(1,)type'.\n",
      "  _np_qint32 = np.dtype([(\"qint32\", np.int32, 1)])\n",
      "/opt/conda/lib/python3.6/site-packages/tensorboard/compat/tensorflow_stub/dtypes.py:550: FutureWarning: Passing (type, 1) or '1type' as a synonym of type is deprecated; in a future version of numpy, it will be understood as (type, (1,)) / '(1,)type'.\n",
      "  np_resource = np.dtype([(\"resource\", np.ubyte, 1)])\n",
      "Using TensorFlow backend.\n"
     ]
    }
   ],
   "source": [
    "# This Python 3 environment comes with many helpful analytics libraries installed\n",
    "# It is defined by the kaggle/python docker image: https://github.com/kaggle/docker-python\n",
    "# For example, here's several helpful packages to load in \n",
    "\n",
    "import pandas as pd\n",
    "from numpy.random import seed\n",
    "seed(42)\n",
    "import random\n",
    "random.seed(42)\n",
    "from tensorflow import set_random_seed\n",
    "set_random_seed(42)\n",
    "\n",
    "import os\n",
    "import sys\n",
    "import numpy as np\n",
    "from keras.models import Sequential\n",
    "from keras.layers import Dropout\n",
    "from keras.applications.resnet50 import ResNet50\n",
    "from keras.layers import Dense\n",
    "import time\n",
    "import cv2\n",
    "from PIL import Image\n",
    "from matplotlib import pyplot as plt\n",
    "from keras.optimizers import Adam\n",
    "from sklearn.model_selection import KFold\n",
    "from keras.preprocessing.image import ImageDataGenerator\n",
    "from sklearn.metrics import mean_squared_error\n",
    "from math import sqrt\n",
    "\n",
    "\n",
    "#define function to turn grayscale into rgb\n",
    "def to_rgb(im):\n",
    "    '''\n",
    "    # I think this will be slow\n",
    "    w, h = im.shape\n",
    "    ret = np.empty((w, h, 3), dtype=np.uint8)\n",
    "    ret[:, :, 0] = im\n",
    "    ret[:, :, 1] = im\n",
    "    ret[:, :, 2] = im\n",
    "    return ret\n",
    "    '''\n",
    "    # maya - this should run faster\n",
    "    #ret = cv2.cvtColor(im,cv2.COLOR_GRAY2RGB)\n",
    "    \n"
   ]
  },
  {
   "cell_type": "code",
   "execution_count": 2,
   "metadata": {
    "_cell_guid": "79c7e3d0-c299-4dcb-8224-4455121ee9b0",
    "_uuid": "d629ff2d2480ee46fbb7e2d37f6b5fab8052498a"
   },
   "outputs": [
    {
     "name": "stdout",
     "output_type": "stream",
     "text": [
      "0     0_the gap666.jpg\n",
      "1    1_topshop1716.jpg\n",
      "2    10_topshop894.jpg\n",
      "Name: player.photo, dtype: object\n"
     ]
    }
   ],
   "source": [
    "target = 'sexual_interest'\n",
    "target = ['trustworthiness', \"sexual_interest\", \"intelligence\", \"confidence\",\"happiness\"]\n",
    "\n",
    "#set constants\n",
    "limit = 5000 #with how many pictures do I want to experiment\n",
    "# maya - I think you can choose smaller image size to start with. smaller the input, faster the process\n",
    "# I also think Resnet accepts various size inputs, you can try giving it actual size images without deformation\n",
    "height = 224\n",
    "width = 224\n",
    "cv_folds = 4\n",
    "batchsize = 32\n",
    "preprocess = False\n",
    "nr_epochs = 5\n",
    "rescaling = True #True False\n",
    "lrr = 0.001 #0.01 0.005 0.001 0.0005 0.0001\n",
    "unfreeze = 176 #-8 -5 -2 176\n",
    "\n",
    "#read labels\n",
    "labels = pd.read_csv('../input/labels/labels.csv', header = 'infer')\n",
    "print(labels['player.photo'][0:3])\n",
    "Y = np.array(labels[target][0:limit])\n",
    "labels['file'] = \"../input/resized-images/resized_images/resized_images/\" + labels['player.photo']"
   ]
  },
  {
   "cell_type": "code",
   "execution_count": 3,
   "metadata": {},
   "outputs": [],
   "source": [
    "if preprocess:\n",
    "    # read images\n",
    "    X = np.empty(shape=(limit, height, width, 3), dtype='uint8')\n",
    "    images = [np.array(Image.open(\"images/\" + fname)) for fname in labels['player.photo'][0:limit]]\n",
    "\n",
    "    #bring into same format\n",
    "    for i, image in enumerate(images):\n",
    "        if len(image.shape) == 2:\n",
    "            special_case = labels['player.photo'][i]\n",
    "            resized_img = cv2.imread(\"images/\" + special_case, cv2.IMREAD_GRAYSCALE)\n",
    "            resized_img = Image.fromarray(resized_img)\n",
    "            resized_img = resized_img.resize((224,224))\n",
    "            resized_img = np.array(resized_img)\n",
    "            resized_img = to_rgb(resized_img)\n",
    "            # plt.imshow(Image.fromarray(resized_img, mode= 'RGB'))\n",
    "            # plt.show()\n",
    "\n",
    "\n",
    "        elif image.shape[2] == 4 or image.shape[2] == 3:\n",
    "            resized_img = Image.fromarray(image[...,:3])\n",
    "            resized_img = resized_img.resize((height,width))\n",
    "            resized_img = np.array(resized_img)\n",
    "\n",
    "        elif image.shape[2] == 2:\n",
    "            image = np.array(image[...,0], dtype= 'uint8')\n",
    "            resized_img = Image.fromarray(image)\n",
    "            resized_img = resized_img.resize((224,224))\n",
    "            resized_img = np.array(resized_img)\n",
    "            resized_img = to_rgb(resized_img)\n",
    "\n",
    "        else:\n",
    "            print(\"There are other formats!\")\n",
    "            print(image.shape)\n",
    "            sys.exit()\n",
    "\n",
    "        X[i] = resized_img\n",
    "\n",
    "    np.save(r\"../input/preprocessed images/preprocessed_data.npy\", X)\n",
    "\n",
    "else:\n",
    "    X = np.load(r\"../input/preprocessed-images/preprocessed_data.npy\")\n",
    "    X = X[0:limit]\n",
    "\n"
   ]
  },
  {
   "cell_type": "code",
   "execution_count": 4,
   "metadata": {},
   "outputs": [
    {
     "name": "stdout",
     "output_type": "stream",
     "text": [
      "Downloading data from https://github.com/fchollet/deep-learning-models/releases/download/v0.2/resnet50_weights_tf_dim_ordering_tf_kernels_notop.h5\n",
      "94658560/94653016 [==============================] - 3s 0us/step\n",
      "_________________________________________________________________\n",
      "Layer (type)                 Output Shape              Param #   \n",
      "=================================================================\n",
      "resnet50 (Model)             (None, 2048)              23587712  \n",
      "_________________________________________________________________\n",
      "dense_1 (Dense)              (None, 5)                 10245     \n",
      "=================================================================\n",
      "Total params: 23,597,957\n",
      "Trainable params: 10,245\n",
      "Non-trainable params: 23,587,712\n",
      "_________________________________________________________________\n"
     ]
    }
   ],
   "source": [
    "#load resnet50\n",
    "resnet = ResNet50(include_top=False, pooling='avg', weights = 'imagenet')\n",
    "for layer in resnet.layers[:unfreeze]:\n",
    "    layer.trainable = False\n",
    "model = Sequential()\n",
    "model.add(resnet)\n",
    "\n",
    "#add linear last layer\n",
    "model.add(Dense(5, activation='linear'))\n",
    "\n",
    "#compile model\n",
    "# maya - here I do propose to do a grid-search to find the best fine-tuning parameters\n",
    "model.compile(loss='mean_squared_error',\n",
    "              optimizer=Adam(lr=lrr, beta_1=0.9, beta_2=0.999, epsilon=None, decay=0.0, amsgrad=False),\n",
    "              metrics=['mse'])\n",
    "model.summary()"
   ]
  },
  {
   "cell_type": "code",
   "execution_count": 5,
   "metadata": {},
   "outputs": [],
   "source": [
    "#data augmentation\n",
    "if rescaling:\n",
    "    datagen = ImageDataGenerator(rescale = 1./255.,\n",
    "            rotation_range=20,\n",
    "            width_shift_range=0.1,\n",
    "            height_shift_range=0.1,\n",
    "            zoom_range=0.25, horizontal_flip=True, vertical_flip=False)\n",
    "if not rescaling:\n",
    "        datagen = ImageDataGenerator(\n",
    "            rotation_range=20,\n",
    "            width_shift_range=0.1,\n",
    "            height_shift_range=0.1,\n",
    "            zoom_range=0.25, horizontal_flip=True, vertical_flip=False)"
   ]
  },
  {
   "cell_type": "code",
   "execution_count": 6,
   "metadata": {},
   "outputs": [],
   "source": [
    "#this code is to check whether the pictures in X and in the labels dataframe are in the same order (important to avoid information leak below)\n",
    "\n",
    "# sample = 245\n",
    "# sample_array = np.array([sample])\n",
    "# for x, y in datagen.flow_from_dataframe(dataframe=labels.iloc[sample_array], directory=\"../input/resized-images/resized_images/resized_images/\", \n",
    "#                                                   x_col=\"player.photo\", y_col=\"sexual_interest\", has_ext=True, \n",
    "#                                                   class_mode=\"other\", target_size=(224, 224), \n",
    "#                                                   batch_size=1):\n",
    "#     test = np.array(x[0], dtype = 'uint8')\n",
    "#     plt.imshow(Image.fromarray(test, mode= 'RGB'))\n",
    "#     plt.show()\n",
    "#     break\n",
    "\n",
    "# test = np.array(X[sample], dtype = 'uint8')\n",
    "# plt.imshow(Image.fromarray(test, mode= 'RGB'))\n",
    "# plt.show()"
   ]
  },
  {
   "cell_type": "code",
   "execution_count": 7,
   "metadata": {},
   "outputs": [
    {
     "name": "stdout",
     "output_type": "stream",
     "text": [
      "Found 3750 validated image filenames.\n",
      "Epoch 1/5\n",
      "118/117 [==============================] - 48s 408ms/step - loss: 2.8882 - mean_squared_error: 2.8882 - val_loss: 3.6240 - val_mean_squared_error: 3.6240\n",
      "Epoch 2/5\n",
      "118/117 [==============================] - 40s 340ms/step - loss: 1.0752 - mean_squared_error: 1.0752 - val_loss: 3.3219 - val_mean_squared_error: 3.3219\n",
      "Epoch 3/5\n",
      "118/117 [==============================] - 41s 346ms/step - loss: 0.8932 - mean_squared_error: 0.8932 - val_loss: 2.4584 - val_mean_squared_error: 2.4584\n",
      "Epoch 4/5\n",
      "118/117 [==============================] - 41s 346ms/step - loss: 0.7618 - mean_squared_error: 0.7618 - val_loss: 2.0716 - val_mean_squared_error: 2.0716\n",
      "Epoch 5/5\n",
      "118/117 [==============================] - 41s 346ms/step - loss: 0.6929 - mean_squared_error: 0.6929 - val_loss: 1.8040 - val_mean_squared_error: 1.8040\n",
      "Found 3750 validated image filenames.\n",
      "Epoch 1/5\n",
      "118/117 [==============================] - 44s 374ms/step - loss: 0.6625 - mean_squared_error: 0.6625 - val_loss: 1.8904 - val_mean_squared_error: 1.8904\n",
      "Epoch 2/5\n",
      "118/117 [==============================] - 41s 350ms/step - loss: 0.6352 - mean_squared_error: 0.6352 - val_loss: 1.9832 - val_mean_squared_error: 1.9832\n",
      "Epoch 3/5\n",
      "118/117 [==============================] - 41s 347ms/step - loss: 0.6085 - mean_squared_error: 0.6085 - val_loss: 1.7625 - val_mean_squared_error: 1.7625\n",
      "Epoch 4/5\n",
      "118/117 [==============================] - 41s 347ms/step - loss: 0.5792 - mean_squared_error: 0.5792 - val_loss: 1.4369 - val_mean_squared_error: 1.4369\n",
      "Epoch 5/5\n",
      "118/117 [==============================] - 41s 348ms/step - loss: 0.5642 - mean_squared_error: 0.5642 - val_loss: 1.9664 - val_mean_squared_error: 1.9664\n",
      "Found 3750 validated image filenames.\n",
      "Epoch 1/5\n",
      "118/117 [==============================] - 43s 368ms/step - loss: 0.5549 - mean_squared_error: 0.5549 - val_loss: 1.6357 - val_mean_squared_error: 1.6357\n",
      "Epoch 2/5\n",
      "118/117 [==============================] - 41s 347ms/step - loss: 0.5441 - mean_squared_error: 0.5441 - val_loss: 2.2138 - val_mean_squared_error: 2.2138\n",
      "Epoch 3/5\n",
      "118/117 [==============================] - 41s 347ms/step - loss: 0.5306 - mean_squared_error: 0.5306 - val_loss: 2.1595 - val_mean_squared_error: 2.1595\n",
      "Epoch 4/5\n",
      "118/117 [==============================] - 41s 351ms/step - loss: 0.5099 - mean_squared_error: 0.5099 - val_loss: 2.1042 - val_mean_squared_error: 2.1042\n",
      "Epoch 5/5\n",
      "118/117 [==============================] - 41s 347ms/step - loss: 0.5121 - mean_squared_error: 0.5121 - val_loss: 2.3277 - val_mean_squared_error: 2.3277\n",
      "Found 3750 validated image filenames.\n",
      "Epoch 1/5\n",
      "118/117 [==============================] - 43s 367ms/step - loss: 0.5216 - mean_squared_error: 0.5216 - val_loss: 2.2310 - val_mean_squared_error: 2.2310\n",
      "Epoch 2/5\n",
      "118/117 [==============================] - 41s 345ms/step - loss: 0.5323 - mean_squared_error: 0.5323 - val_loss: 2.4333 - val_mean_squared_error: 2.4333\n",
      "Epoch 3/5\n",
      "118/117 [==============================] - 41s 347ms/step - loss: 0.4929 - mean_squared_error: 0.4929 - val_loss: 1.9721 - val_mean_squared_error: 1.9721\n",
      "Epoch 4/5\n",
      "118/117 [==============================] - 41s 346ms/step - loss: 0.4754 - mean_squared_error: 0.4754 - val_loss: 2.7858 - val_mean_squared_error: 2.7858\n",
      "Epoch 5/5\n",
      "118/117 [==============================] - 41s 346ms/step - loss: 0.4914 - mean_squared_error: 0.4914 - val_loss: 2.5120 - val_mean_squared_error: 2.5120\n"
     ]
    }
   ],
   "source": [
    "#set up cross-validation\n",
    "kfold = KFold(n_splits=cv_folds, shuffle=True, random_state=42)\n",
    "\n",
    "trustworthiness_val_rmse = []\n",
    "confidence_val_rmse = []\n",
    "sexual_interest_val_rmse = []\n",
    "intelligence_val_rmse = []\n",
    "happiness_val_rmse = []\n",
    "trustworthiness_cors = []\n",
    "confidence_cors = []\n",
    "sexual_interest_cors = []\n",
    "intelligence_cors = []\n",
    "happiness_cors = []\n",
    "\n",
    "for train, test in kfold.split(labels):\n",
    "    \n",
    "    \n",
    "    history = model.fit_generator(datagen.flow_from_dataframe(dataframe=labels.iloc[train], directory=\"../input/resized-images/resized_images/resized_images/\", \n",
    "                                                  x_col=\"player.photo\", y_col=target, has_ext=True, \n",
    "                                                  class_mode=\"other\", target_size=(224, 224), \n",
    "                                                  batch_size=batchsize), steps_per_epoch=labels.iloc[train].shape[0] / batchsize, epochs=nr_epochs, validation_data=(X[test], labels.iloc[test][target])) \n",
    "    \n",
    "    ytrue = labels.iloc[test][target]\n",
    "    ypreds = model.predict(X[test])\n",
    "    \n",
    "    trustworthiness_cor = np.corrcoef(ypreds[:,0], ytrue.iloc[:,0])\n",
    "    trustworthiness_val_mse = mean_squared_error(ypreds[:,0], ytrue.iloc[:,0])\n",
    "    trustworthiness_rmse = sqrt(trustworthiness_val_mse)\n",
    "    trustworthiness_val_rmse.append(trustworthiness_rmse)\n",
    "\n",
    "    sexual_interest_cor = np.corrcoef(ypreds[:,1], ytrue.iloc[:,1])\n",
    "    sexual_interest_val_mse = mean_squared_error(ypreds[:,1], ytrue.iloc[:,1])\n",
    "    sexual_interest_rmse = sqrt(sexual_interest_val_mse)\n",
    "    sexual_interest_val_rmse.append(sexual_interest_rmse)\n",
    "\n",
    "    intelligence_cor = np.corrcoef(ypreds[:,2], ytrue.iloc[:,2])\n",
    "    intelligence_val_mse = mean_squared_error(ypreds[:,2], ytrue.iloc[:,2])\n",
    "    intelligence_rmse = sqrt(intelligence_val_mse)\n",
    "    intelligence_val_rmse.append(intelligence_rmse)\n",
    "\n",
    "    confidence_cor = np.corrcoef(ypreds[:,3], ytrue.iloc[:,3])\n",
    "    confidence_val_mse = mean_squared_error(ypreds[:,3], ytrue.iloc[:,3])\n",
    "    confidence_rmse = sqrt(confidence_val_mse)\n",
    "    confidence_val_rmse.append(confidence_rmse)\n",
    "\n",
    "    happiness_cor = np.corrcoef(ypreds[:,4], ytrue.iloc[:,4])\n",
    "    happiness_val_mse = mean_squared_error(ypreds[:,4], ytrue.iloc[:,4])\n",
    "    happiness_rmse = sqrt(happiness_val_mse)\n",
    "    happiness_val_rmse.append(happiness_rmse)\n",
    "    \n",
    "    confidence_cors.append(confidence_cor[0,1])\n",
    "    sexual_interest_cors.append(sexual_interest_cor[0,1])\n",
    "    happiness_cors.append(happiness_cor[0,1])\n",
    "    intelligence_cors.append(intelligence_cor[0,1])\n",
    "    trustworthiness_cors.append(trustworthiness_cor[0,1])\n",
    "\n"
   ]
  },
  {
   "cell_type": "code",
   "execution_count": 8,
   "metadata": {},
   "outputs": [
    {
     "name": "stdout",
     "output_type": "stream",
     "text": [
      "\n",
      "\n",
      "dict_keys(['val_loss', 'val_mean_squared_error', 'loss', 'mean_squared_error'])\n"
     ]
    },
    {
     "data": {
      "image/png": "[encoded data removed]",
      "text/plain": [
       "<Figure size 432x288 with 1 Axes>"
      ]
     },
     "metadata": {
      "needs_background": "light"
     },
     "output_type": "display_data"
    }
   ],
   "source": [
    "# history = model\n",
    "print(\"\\n\")\n",
    "print(history.history.keys())\n",
    "\n",
    "# summarize history for accuracy\n",
    "plt.plot(history.history['loss'])\n",
    "plt.plot(history.history['val_loss'])\n",
    "plt.title('model loss')\n",
    "plt.ylabel('loss')\n",
    "plt.xlabel('epoch')\n",
    "plt.legend(['train', 'test'], loc='upper left')\n",
    "plt.show()"
   ]
  },
  {
   "cell_type": "code",
   "execution_count": 9,
   "metadata": {},
   "outputs": [
    {
     "name": "stdout",
     "output_type": "stream",
     "text": [
      "[0.33988067323483123, 0.3989847263216669, 0.382501339965939, 0.4475143920979739]\n"
     ]
    }
   ],
   "source": [
    "print(confidence_cors)\n"
   ]
  },
  {
   "cell_type": "code",
   "execution_count": 10,
   "metadata": {},
   "outputs": [],
   "source": [
    "my_submission = pd.DataFrame({'sexual': np.median(sexual_interest_cors),'confident': np.median(confidence_cors),'happy': np.median(happiness_cors), 'intel': np.median(intelligence_cors), 'trust': np.median(trustworthiness_cors)}, index=[0])\n",
    "my_submission.to_csv(str(lrr) + str(lrr) + str(unfreeze) + '_submission.csv', index=False)"
   ]
  }
 ],
 "metadata": {
  "kernelspec": {
   "display_name": "Python 3",
   "language": "python",
   "name": "python3"
  },
  "language_info": {
   "codemirror_mode": {
    "name": "ipython",
    "version": 3
   },
   "file_extension": ".py",
   "mimetype": "text/x-python",
   "name": "python",
   "nbconvert_exporter": "python",
   "pygments_lexer": "ipython3",
   "version": "3.6.6"
  }
 },
 "nbformat": 4,
 "nbformat_minor": 1
}
